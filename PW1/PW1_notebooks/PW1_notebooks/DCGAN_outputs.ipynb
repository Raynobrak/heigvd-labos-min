{
  "cells": [
    {
      "cell_type": "markdown",
      "metadata": {
        "id": "rrxQypiqQ54m"
      },
      "source": [
        "## <font color=\"#59B4C3\">🔨&nbsp;&nbsp;Google Colab Setup</font>\n",
        "Upload the data (without unzipping it) to your Google Drive to be able to access datasets."
      ]
    },
    {
      "cell_type": "markdown",
      "source": [
        "## <font color=\"#59B4C3\">🎯&nbsp;&nbsp;Your task</font>\n",
        "\n",
        "In this notebook you will explore and analyse the results of different DCGAN models trained by us. You will find questions at the end of this notebook. Please run the code, no model is trained here you will load precomputed models outputs."
      ],
      "metadata": {
        "id": "kpulfLPtrGwy"
      }
    },
    {
      "cell_type": "code",
      "execution_count": 1,
      "metadata": {
        "colab": {
          "base_uri": "https://localhost:8080/"
        },
        "id": "bXwYHT65QIy5",
        "outputId": "256d7e2d-425e-4d57-ec69-66de677efc72"
      },
      "outputs": [
        {
          "output_type": "stream",
          "name": "stdout",
          "text": [
            "Mounted at /content/drive\n"
          ]
        }
      ],
      "source": [
        "from google.colab import drive\n",
        "drive.mount('/content/drive')"
      ]
    },
    {
      "cell_type": "code",
      "execution_count": 2,
      "metadata": {
        "colab": {
          "base_uri": "https://localhost:8080/"
        },
        "id": "sR7ztbE1Q-ma",
        "outputId": "9b775fdb-baf5-4caa-f543-fc2e753a6046"
      },
      "outputs": [
        {
          "output_type": "stream",
          "name": "stdout",
          "text": [
            "Archive:  /content/drive/MyDrive/dcgan.zip\n",
            "   creating: dcgan/\n",
            "   creating: dcgan/discriminator_3/\n",
            " extracting: dcgan/discriminator_3/fingerprint.pb  \n",
            "  inflating: dcgan/discriminator_3/keras_metadata.pb  \n",
            "   creating: dcgan/discriminator_3/variables/\n",
            "  inflating: dcgan/discriminator_3/variables/variables.data-00000-of-00001  \n",
            "  inflating: dcgan/discriminator_3/variables/variables.index  \n",
            "  inflating: dcgan/discriminator_3/saved_model.pb  \n",
            "   creating: dcgan/discriminator_3/assets/\n",
            "   creating: dcgan/discriminator_4/\n",
            " extracting: dcgan/discriminator_4/fingerprint.pb  \n",
            "  inflating: dcgan/discriminator_4/keras_metadata.pb  \n",
            "   creating: dcgan/discriminator_4/variables/\n",
            "  inflating: dcgan/discriminator_4/variables/variables.data-00000-of-00001  \n",
            "  inflating: dcgan/discriminator_4/variables/variables.index  \n",
            "  inflating: dcgan/discriminator_4/saved_model.pb  \n",
            "   creating: dcgan/discriminator_4/assets/\n",
            "   creating: dcgan/discriminator_5/\n",
            " extracting: dcgan/discriminator_5/fingerprint.pb  \n",
            "  inflating: dcgan/discriminator_5/keras_metadata.pb  \n",
            "   creating: dcgan/discriminator_5/variables/\n",
            "  inflating: dcgan/discriminator_5/variables/variables.data-00000-of-00001  \n",
            "  inflating: dcgan/discriminator_5/variables/variables.index  \n",
            "  inflating: dcgan/discriminator_5/saved_model.pb  \n",
            "   creating: dcgan/discriminator_5/assets/\n",
            "   creating: dcgan/discriminator_2/\n",
            " extracting: dcgan/discriminator_2/fingerprint.pb  \n",
            "  inflating: dcgan/discriminator_2/keras_metadata.pb  \n",
            "   creating: dcgan/discriminator_2/variables/\n",
            "  inflating: dcgan/discriminator_2/variables/variables.data-00000-of-00001  \n",
            "  inflating: dcgan/discriminator_2/variables/variables.index  \n",
            "  inflating: dcgan/discriminator_2/saved_model.pb  \n",
            "   creating: dcgan/discriminator_2/assets/\n",
            "  inflating: dcgan/.DS_Store         \n",
            "   creating: dcgan/generator_4/\n",
            " extracting: dcgan/generator_4/fingerprint.pb  \n",
            "  inflating: dcgan/generator_4/keras_metadata.pb  \n",
            "   creating: dcgan/generator_4/variables/\n",
            "  inflating: dcgan/generator_4/variables/variables.data-00000-of-00001  \n",
            "  inflating: dcgan/generator_4/variables/variables.index  \n",
            "  inflating: dcgan/generator_4/saved_model.pb  \n",
            "   creating: dcgan/generator_4/assets/\n",
            "   creating: dcgan/generator_3/\n",
            " extracting: dcgan/generator_3/fingerprint.pb  \n",
            "  inflating: dcgan/generator_3/keras_metadata.pb  \n",
            "   creating: dcgan/generator_3/variables/\n",
            "  inflating: dcgan/generator_3/variables/variables.data-00000-of-00001  \n",
            "  inflating: dcgan/generator_3/variables/variables.index  \n",
            "  inflating: dcgan/generator_3/saved_model.pb  \n",
            "   creating: dcgan/generator_3/assets/\n",
            "   creating: dcgan/generator_2/\n",
            " extracting: dcgan/generator_2/fingerprint.pb  \n",
            "  inflating: dcgan/generator_2/keras_metadata.pb  \n",
            "   creating: dcgan/generator_2/variables/\n",
            "  inflating: dcgan/generator_2/variables/variables.data-00000-of-00001  \n",
            "  inflating: dcgan/generator_2/variables/variables.index  \n",
            "  inflating: dcgan/generator_2/saved_model.pb  \n",
            "   creating: dcgan/generator_2/assets/\n",
            "   creating: dcgan/generator_5/\n",
            " extracting: dcgan/generator_5/fingerprint.pb  \n",
            "  inflating: dcgan/generator_5/keras_metadata.pb  \n",
            "   creating: dcgan/generator_5/variables/\n",
            "  inflating: dcgan/generator_5/variables/variables.data-00000-of-00001  \n",
            "  inflating: dcgan/generator_5/variables/variables.index  \n",
            "  inflating: dcgan/generator_5/saved_model.pb  \n",
            "   creating: dcgan/generator_5/assets/\n",
            "   creating: dcgan/discriminator_1/\n",
            " extracting: dcgan/discriminator_1/fingerprint.pb  \n",
            "  inflating: dcgan/discriminator_1/keras_metadata.pb  \n",
            "   creating: dcgan/discriminator_1/variables/\n",
            "  inflating: dcgan/discriminator_1/variables/variables.data-00000-of-00001  \n",
            "  inflating: dcgan/discriminator_1/variables/variables.index  \n",
            "  inflating: dcgan/discriminator_1/saved_model.pb  \n",
            "   creating: dcgan/discriminator_1/assets/\n",
            "   creating: dcgan/discriminator_6/\n",
            " extracting: dcgan/discriminator_6/fingerprint.pb  \n",
            "  inflating: dcgan/discriminator_6/keras_metadata.pb  \n",
            "   creating: dcgan/discriminator_6/variables/\n",
            "  inflating: dcgan/discriminator_6/variables/variables.data-00000-of-00001  \n",
            "  inflating: dcgan/discriminator_6/variables/variables.index  \n",
            "  inflating: dcgan/discriminator_6/saved_model.pb  \n",
            "   creating: dcgan/discriminator_6/assets/\n",
            "   creating: dcgan/generator_6/\n",
            " extracting: dcgan/generator_6/fingerprint.pb  \n",
            "  inflating: dcgan/generator_6/keras_metadata.pb  \n",
            "   creating: dcgan/generator_6/variables/\n",
            "  inflating: dcgan/generator_6/variables/variables.data-00000-of-00001  \n",
            "  inflating: dcgan/generator_6/variables/variables.index  \n",
            "  inflating: dcgan/generator_6/saved_model.pb  \n",
            "   creating: dcgan/generator_6/assets/\n",
            "   creating: dcgan/generator_1/\n",
            " extracting: dcgan/generator_1/fingerprint.pb  \n",
            "  inflating: dcgan/generator_1/keras_metadata.pb  \n",
            "   creating: dcgan/generator_1/variables/\n",
            "  inflating: dcgan/generator_1/variables/variables.data-00000-of-00001  \n",
            "  inflating: dcgan/generator_1/variables/variables.index  \n",
            "  inflating: dcgan/generator_1/saved_model.pb  \n",
            "   creating: dcgan/generator_1/assets/\n",
            "   creating: dcgan/outputs/\n",
            "   creating: dcgan/outputs/dcgan_3/\n",
            "   creating: dcgan/outputs/dcgan_3/discriminator_3/\n",
            " extracting: dcgan/outputs/dcgan_3/discriminator_3/fingerprint.pb  \n",
            "  inflating: dcgan/outputs/dcgan_3/discriminator_3/keras_metadata.pb  \n",
            "   creating: dcgan/outputs/dcgan_3/discriminator_3/variables/\n",
            "  inflating: dcgan/outputs/dcgan_3/discriminator_3/variables/variables.data-00000-of-00001  \n",
            "  inflating: dcgan/outputs/dcgan_3/discriminator_3/variables/variables.index  \n",
            "  inflating: dcgan/outputs/dcgan_3/discriminator_3/saved_model.pb  \n",
            "   creating: dcgan/outputs/dcgan_3/discriminator_3/assets/\n",
            "  inflating: dcgan/outputs/dcgan_3/.DS_Store  \n",
            "   creating: dcgan/outputs/dcgan_3/images/\n",
            "  inflating: dcgan/outputs/dcgan_3/images/8.png  \n",
            "  inflating: dcgan/outputs/dcgan_3/images/9.png  \n",
            "  inflating: dcgan/outputs/dcgan_3/images/14.png  \n",
            "  inflating: dcgan/outputs/dcgan_3/images/28.png  \n",
            "  inflating: dcgan/outputs/dcgan_3/images/29.png  \n",
            "  inflating: dcgan/outputs/dcgan_3/images/15.png  \n",
            "  inflating: dcgan/outputs/dcgan_3/images/17.png  \n",
            "  inflating: dcgan/outputs/dcgan_3/images/16.png  \n",
            "  inflating: dcgan/outputs/dcgan_3/images/12.png  \n",
            "  inflating: dcgan/outputs/dcgan_3/images/13.png  \n",
            "  inflating: dcgan/outputs/dcgan_3/images/39.png  \n",
            "  inflating: dcgan/outputs/dcgan_3/images/11.png  \n",
            "  inflating: dcgan/outputs/dcgan_3/images/10.png  \n",
            "  inflating: dcgan/outputs/dcgan_3/images/38.png  \n",
            "  inflating: dcgan/outputs/dcgan_3/images/35.png  \n",
            "  inflating: dcgan/outputs/dcgan_3/images/21.png  \n",
            "  inflating: dcgan/outputs/dcgan_3/images/20.png  \n",
            "  inflating: dcgan/outputs/dcgan_3/images/34.png  \n",
            "  inflating: dcgan/outputs/dcgan_3/images/22.png  \n",
            "  inflating: dcgan/outputs/dcgan_3/images/36.png  \n",
            "  inflating: dcgan/outputs/dcgan_3/images/37.png  \n",
            "  inflating: dcgan/outputs/dcgan_3/images/23.png  \n",
            "  inflating: dcgan/outputs/dcgan_3/images/27.png  \n",
            "  inflating: dcgan/outputs/dcgan_3/images/33.png  \n",
            "  inflating: dcgan/outputs/dcgan_3/images/32.png  \n",
            "  inflating: dcgan/outputs/dcgan_3/images/26.png  \n",
            "  inflating: dcgan/outputs/dcgan_3/images/18.png  \n",
            "  inflating: dcgan/outputs/dcgan_3/images/30.png  \n",
            "  inflating: dcgan/outputs/dcgan_3/images/24.png  \n",
            "  inflating: dcgan/outputs/dcgan_3/images/25.png  \n",
            "  inflating: dcgan/outputs/dcgan_3/images/31.png  \n",
            "  inflating: dcgan/outputs/dcgan_3/images/19.png  \n",
            "  inflating: dcgan/outputs/dcgan_3/images/4.png  \n",
            "  inflating: dcgan/outputs/dcgan_3/images/5.png  \n",
            "  inflating: dcgan/outputs/dcgan_3/images/7.png  \n",
            "  inflating: dcgan/outputs/dcgan_3/images/6.png  \n",
            "  inflating: dcgan/outputs/dcgan_3/images/40.png  \n",
            "  inflating: dcgan/outputs/dcgan_3/images/2.png  \n",
            "  inflating: dcgan/outputs/dcgan_3/images/3.png  \n",
            "  inflating: dcgan/outputs/dcgan_3/images/1.png  \n",
            "  inflating: dcgan/outputs/dcgan_3/loss_dcgan_3.png  \n",
            "   creating: dcgan/outputs/dcgan_3/generator_3/\n",
            " extracting: dcgan/outputs/dcgan_3/generator_3/fingerprint.pb  \n",
            "  inflating: dcgan/outputs/dcgan_3/generator_3/keras_metadata.pb  \n",
            "   creating: dcgan/outputs/dcgan_3/generator_3/variables/\n",
            "  inflating: dcgan/outputs/dcgan_3/generator_3/variables/variables.data-00000-of-00001  \n",
            "  inflating: dcgan/outputs/dcgan_3/generator_3/variables/variables.index  \n",
            "  inflating: dcgan/outputs/dcgan_3/generator_3/saved_model.pb  \n",
            "   creating: dcgan/outputs/dcgan_3/generator_3/assets/\n",
            "   creating: dcgan/outputs/dcgan_4/\n",
            "  inflating: dcgan/outputs/dcgan_4/.DS_Store  \n",
            "   creating: dcgan/outputs/dcgan_4/images/\n",
            "  inflating: dcgan/outputs/dcgan_4/images/8.png  \n",
            "  inflating: dcgan/outputs/dcgan_4/images/9.png  \n",
            "  inflating: dcgan/outputs/dcgan_4/images/14.png  \n",
            "  inflating: dcgan/outputs/dcgan_4/images/28.png  \n",
            "  inflating: dcgan/outputs/dcgan_4/images/29.png  \n",
            "  inflating: dcgan/outputs/dcgan_4/images/15.png  \n",
            "  inflating: dcgan/outputs/dcgan_4/images/17.png  \n",
            "  inflating: dcgan/outputs/dcgan_4/images/16.png  \n",
            "  inflating: dcgan/outputs/dcgan_4/images/12.png  \n",
            "  inflating: dcgan/outputs/dcgan_4/images/13.png  \n",
            "  inflating: dcgan/outputs/dcgan_4/images/39.png  \n",
            "  inflating: dcgan/outputs/dcgan_4/images/11.png  \n",
            "  inflating: dcgan/outputs/dcgan_4/images/10.png  \n",
            "  inflating: dcgan/outputs/dcgan_4/images/38.png  \n",
            "  inflating: dcgan/outputs/dcgan_4/images/35.png  \n",
            "  inflating: dcgan/outputs/dcgan_4/images/21.png  \n",
            "  inflating: dcgan/outputs/dcgan_4/images/20.png  \n",
            "  inflating: dcgan/outputs/dcgan_4/images/34.png  \n",
            "  inflating: dcgan/outputs/dcgan_4/images/22.png  \n",
            "  inflating: dcgan/outputs/dcgan_4/images/36.png  \n",
            "  inflating: dcgan/outputs/dcgan_4/images/37.png  \n",
            "  inflating: dcgan/outputs/dcgan_4/images/23.png  \n",
            "  inflating: dcgan/outputs/dcgan_4/images/27.png  \n",
            "  inflating: dcgan/outputs/dcgan_4/images/33.png  \n",
            "  inflating: dcgan/outputs/dcgan_4/images/32.png  \n",
            "  inflating: dcgan/outputs/dcgan_4/images/26.png  \n",
            "  inflating: dcgan/outputs/dcgan_4/images/18.png  \n",
            "  inflating: dcgan/outputs/dcgan_4/images/30.png  \n",
            "  inflating: dcgan/outputs/dcgan_4/images/24.png  \n",
            "  inflating: dcgan/outputs/dcgan_4/images/25.png  \n",
            "  inflating: dcgan/outputs/dcgan_4/images/31.png  \n",
            "  inflating: dcgan/outputs/dcgan_4/images/19.png  \n",
            "  inflating: dcgan/outputs/dcgan_4/images/4.png  \n",
            "  inflating: dcgan/outputs/dcgan_4/images/5.png  \n",
            "  inflating: dcgan/outputs/dcgan_4/images/7.png  \n",
            "  inflating: dcgan/outputs/dcgan_4/images/6.png  \n",
            "  inflating: dcgan/outputs/dcgan_4/images/40.png  \n",
            "  inflating: dcgan/outputs/dcgan_4/images/2.png  \n",
            "  inflating: dcgan/outputs/dcgan_4/images/3.png  \n",
            "  inflating: dcgan/outputs/dcgan_4/images/1.png  \n",
            "  inflating: dcgan/outputs/dcgan_4/loss_dcgan_4.png  \n",
            "   creating: dcgan/outputs/dcgan_5/\n",
            "  inflating: dcgan/outputs/dcgan_5/.DS_Store  \n",
            "   creating: dcgan/outputs/dcgan_5/images/\n",
            "  inflating: dcgan/outputs/dcgan_5/images/8.png  \n",
            "  inflating: dcgan/outputs/dcgan_5/images/9.png  \n",
            "  inflating: dcgan/outputs/dcgan_5/images/14.png  \n",
            "  inflating: dcgan/outputs/dcgan_5/images/28.png  \n",
            "  inflating: dcgan/outputs/dcgan_5/images/29.png  \n",
            "  inflating: dcgan/outputs/dcgan_5/images/15.png  \n",
            "  inflating: dcgan/outputs/dcgan_5/images/17.png  \n",
            "  inflating: dcgan/outputs/dcgan_5/images/16.png  \n",
            "  inflating: dcgan/outputs/dcgan_5/images/12.png  \n",
            "  inflating: dcgan/outputs/dcgan_5/images/13.png  \n",
            "  inflating: dcgan/outputs/dcgan_5/images/39.png  \n",
            "  inflating: dcgan/outputs/dcgan_5/images/11.png  \n",
            "  inflating: dcgan/outputs/dcgan_5/images/10.png  \n",
            "  inflating: dcgan/outputs/dcgan_5/images/38.png  \n",
            "  inflating: dcgan/outputs/dcgan_5/images/35.png  \n",
            "  inflating: dcgan/outputs/dcgan_5/images/21.png  \n",
            "  inflating: dcgan/outputs/dcgan_5/images/20.png  \n",
            "  inflating: dcgan/outputs/dcgan_5/images/34.png  \n",
            "  inflating: dcgan/outputs/dcgan_5/images/22.png  \n",
            "  inflating: dcgan/outputs/dcgan_5/images/36.png  \n",
            "  inflating: dcgan/outputs/dcgan_5/images/37.png  \n",
            "  inflating: dcgan/outputs/dcgan_5/images/23.png  \n",
            "  inflating: dcgan/outputs/dcgan_5/images/27.png  \n",
            "  inflating: dcgan/outputs/dcgan_5/images/33.png  \n",
            "  inflating: dcgan/outputs/dcgan_5/images/32.png  \n",
            "  inflating: dcgan/outputs/dcgan_5/images/26.png  \n",
            "  inflating: dcgan/outputs/dcgan_5/images/18.png  \n",
            "  inflating: dcgan/outputs/dcgan_5/images/30.png  \n",
            "  inflating: dcgan/outputs/dcgan_5/images/24.png  \n",
            "  inflating: dcgan/outputs/dcgan_5/images/25.png  \n",
            "  inflating: dcgan/outputs/dcgan_5/images/31.png  \n",
            "  inflating: dcgan/outputs/dcgan_5/images/19.png  \n",
            "  inflating: dcgan/outputs/dcgan_5/images/4.png  \n",
            "  inflating: dcgan/outputs/dcgan_5/images/5.png  \n",
            "  inflating: dcgan/outputs/dcgan_5/images/7.png  \n",
            "  inflating: dcgan/outputs/dcgan_5/images/6.png  \n",
            "  inflating: dcgan/outputs/dcgan_5/images/40.png  \n",
            "  inflating: dcgan/outputs/dcgan_5/images/2.png  \n",
            "  inflating: dcgan/outputs/dcgan_5/images/3.png  \n",
            "  inflating: dcgan/outputs/dcgan_5/images/1.png  \n",
            "  inflating: dcgan/outputs/dcgan_5/loss_dcgan_5.png  \n",
            "   creating: dcgan/outputs/dcgan_2/\n",
            "  inflating: dcgan/outputs/dcgan_2/.DS_Store  \n",
            "   creating: dcgan/outputs/dcgan_2/images/\n",
            "  inflating: dcgan/outputs/dcgan_2/images/.DS_Store  \n",
            "  inflating: dcgan/outputs/dcgan_2/images/8.png  \n",
            "  inflating: dcgan/outputs/dcgan_2/images/9.png  \n",
            "  inflating: dcgan/outputs/dcgan_2/images/14.png  \n",
            "  inflating: dcgan/outputs/dcgan_2/images/28.png  \n",
            "  inflating: dcgan/outputs/dcgan_2/images/29.png  \n",
            "  inflating: dcgan/outputs/dcgan_2/images/15.png  \n",
            "  inflating: dcgan/outputs/dcgan_2/images/17.png  \n",
            "  inflating: dcgan/outputs/dcgan_2/images/16.png  \n",
            "  inflating: dcgan/outputs/dcgan_2/images/12.png  \n",
            "  inflating: dcgan/outputs/dcgan_2/images/13.png  \n",
            "  inflating: dcgan/outputs/dcgan_2/images/39.png  \n",
            "  inflating: dcgan/outputs/dcgan_2/images/11.png  \n",
            "  inflating: dcgan/outputs/dcgan_2/images/10.png  \n",
            "  inflating: dcgan/outputs/dcgan_2/images/38.png  \n",
            "  inflating: dcgan/outputs/dcgan_2/images/35.png  \n",
            "  inflating: dcgan/outputs/dcgan_2/images/21.png  \n",
            "  inflating: dcgan/outputs/dcgan_2/images/20.png  \n",
            "  inflating: dcgan/outputs/dcgan_2/images/34.png  \n",
            "  inflating: dcgan/outputs/dcgan_2/images/22.png  \n",
            "  inflating: dcgan/outputs/dcgan_2/images/36.png  \n",
            "  inflating: dcgan/outputs/dcgan_2/images/37.png  \n",
            "  inflating: dcgan/outputs/dcgan_2/images/23.png  \n",
            "  inflating: dcgan/outputs/dcgan_2/images/27.png  \n",
            "  inflating: dcgan/outputs/dcgan_2/images/33.png  \n",
            "  inflating: dcgan/outputs/dcgan_2/images/32.png  \n",
            "  inflating: dcgan/outputs/dcgan_2/images/26.png  \n",
            "  inflating: dcgan/outputs/dcgan_2/images/18.png  \n",
            "  inflating: dcgan/outputs/dcgan_2/images/30.png  \n",
            "  inflating: dcgan/outputs/dcgan_2/images/24.png  \n",
            "  inflating: dcgan/outputs/dcgan_2/images/25.png  \n",
            "  inflating: dcgan/outputs/dcgan_2/images/31.png  \n",
            "  inflating: dcgan/outputs/dcgan_2/images/19.png  \n",
            "  inflating: dcgan/outputs/dcgan_2/images/4.png  \n",
            "  inflating: dcgan/outputs/dcgan_2/images/5.png  \n",
            "  inflating: dcgan/outputs/dcgan_2/images/7.png  \n",
            "  inflating: dcgan/outputs/dcgan_2/images/6.png  \n",
            "  inflating: dcgan/outputs/dcgan_2/images/40.png  \n",
            "  inflating: dcgan/outputs/dcgan_2/images/2.png  \n",
            "  inflating: dcgan/outputs/dcgan_2/images/3.png  \n",
            "  inflating: dcgan/outputs/dcgan_2/images/1.png  \n",
            "  inflating: dcgan/outputs/dcgan_2/loss_dcgan_2.png  \n",
            "  inflating: dcgan/outputs/.DS_Store  \n",
            "   creating: dcgan/outputs/dcgan_1/\n",
            "  inflating: dcgan/outputs/dcgan_1/.DS_Store  \n",
            "   creating: dcgan/outputs/dcgan_1/images/\n",
            "  inflating: dcgan/outputs/dcgan_1/images/8.png  \n",
            "  inflating: dcgan/outputs/dcgan_1/images/9.png  \n",
            "  inflating: dcgan/outputs/dcgan_1/images/14.png  \n",
            "  inflating: dcgan/outputs/dcgan_1/images/28.png  \n",
            "  inflating: dcgan/outputs/dcgan_1/images/29.png  \n",
            "  inflating: dcgan/outputs/dcgan_1/images/15.png  \n",
            "  inflating: dcgan/outputs/dcgan_1/images/17.png  \n",
            "  inflating: dcgan/outputs/dcgan_1/images/16.png  \n",
            "  inflating: dcgan/outputs/dcgan_1/images/12.png  \n",
            "  inflating: dcgan/outputs/dcgan_1/images/13.png  \n",
            "  inflating: dcgan/outputs/dcgan_1/images/39.png  \n",
            "  inflating: dcgan/outputs/dcgan_1/images/11.png  \n",
            "  inflating: dcgan/outputs/dcgan_1/images/10.png  \n",
            "  inflating: dcgan/outputs/dcgan_1/images/38.png  \n",
            "  inflating: dcgan/outputs/dcgan_1/images/35.png  \n",
            "  inflating: dcgan/outputs/dcgan_1/images/21.png  \n",
            "  inflating: dcgan/outputs/dcgan_1/images/20.png  \n",
            "  inflating: dcgan/outputs/dcgan_1/images/34.png  \n",
            "  inflating: dcgan/outputs/dcgan_1/images/22.png  \n",
            "  inflating: dcgan/outputs/dcgan_1/images/36.png  \n",
            "  inflating: dcgan/outputs/dcgan_1/images/37.png  \n",
            "  inflating: dcgan/outputs/dcgan_1/images/23.png  \n",
            "  inflating: dcgan/outputs/dcgan_1/images/27.png  \n",
            "  inflating: dcgan/outputs/dcgan_1/images/33.png  \n",
            "  inflating: dcgan/outputs/dcgan_1/images/32.png  \n",
            "  inflating: dcgan/outputs/dcgan_1/images/26.png  \n",
            "  inflating: dcgan/outputs/dcgan_1/images/18.png  \n",
            "  inflating: dcgan/outputs/dcgan_1/images/30.png  \n",
            "  inflating: dcgan/outputs/dcgan_1/images/24.png  \n",
            "  inflating: dcgan/outputs/dcgan_1/images/25.png  \n",
            "  inflating: dcgan/outputs/dcgan_1/images/31.png  \n",
            "  inflating: dcgan/outputs/dcgan_1/images/19.png  \n",
            "  inflating: dcgan/outputs/dcgan_1/images/4.png  \n",
            "  inflating: dcgan/outputs/dcgan_1/images/5.png  \n",
            "  inflating: dcgan/outputs/dcgan_1/images/7.png  \n",
            "  inflating: dcgan/outputs/dcgan_1/images/6.png  \n",
            "  inflating: dcgan/outputs/dcgan_1/images/40.png  \n",
            "  inflating: dcgan/outputs/dcgan_1/images/2.png  \n",
            "  inflating: dcgan/outputs/dcgan_1/images/3.png  \n",
            "  inflating: dcgan/outputs/dcgan_1/images/1.png  \n",
            "  inflating: dcgan/outputs/dcgan_1/loss_dcgan_1.png  \n",
            "   creating: dcgan/outputs/dcgan_6/\n",
            "  inflating: dcgan/outputs/dcgan_6/.DS_Store  \n",
            "   creating: dcgan/outputs/dcgan_6/images/\n",
            "  inflating: dcgan/outputs/dcgan_6/images/8.png  \n",
            "  inflating: dcgan/outputs/dcgan_6/images/9.png  \n",
            "  inflating: dcgan/outputs/dcgan_6/images/14.png  \n",
            "  inflating: dcgan/outputs/dcgan_6/images/28.png  \n",
            "  inflating: dcgan/outputs/dcgan_6/images/29.png  \n",
            "  inflating: dcgan/outputs/dcgan_6/images/15.png  \n",
            "  inflating: dcgan/outputs/dcgan_6/images/17.png  \n",
            "  inflating: dcgan/outputs/dcgan_6/images/16.png  \n",
            "  inflating: dcgan/outputs/dcgan_6/images/12.png  \n",
            "  inflating: dcgan/outputs/dcgan_6/images/13.png  \n",
            "  inflating: dcgan/outputs/dcgan_6/images/39.png  \n",
            "  inflating: dcgan/outputs/dcgan_6/images/11.png  \n",
            "  inflating: dcgan/outputs/dcgan_6/images/10.png  \n",
            "  inflating: dcgan/outputs/dcgan_6/images/38.png  \n",
            "  inflating: dcgan/outputs/dcgan_6/images/35.png  \n",
            "  inflating: dcgan/outputs/dcgan_6/images/21.png  \n",
            "  inflating: dcgan/outputs/dcgan_6/images/20.png  \n",
            "  inflating: dcgan/outputs/dcgan_6/images/34.png  \n",
            "  inflating: dcgan/outputs/dcgan_6/images/22.png  \n",
            "  inflating: dcgan/outputs/dcgan_6/images/36.png  \n",
            "  inflating: dcgan/outputs/dcgan_6/images/37.png  \n",
            "  inflating: dcgan/outputs/dcgan_6/images/23.png  \n",
            "  inflating: dcgan/outputs/dcgan_6/images/27.png  \n",
            "  inflating: dcgan/outputs/dcgan_6/images/33.png  \n",
            "  inflating: dcgan/outputs/dcgan_6/images/32.png  \n",
            "  inflating: dcgan/outputs/dcgan_6/images/26.png  \n",
            "  inflating: dcgan/outputs/dcgan_6/images/18.png  \n",
            "  inflating: dcgan/outputs/dcgan_6/images/30.png  \n",
            "  inflating: dcgan/outputs/dcgan_6/images/24.png  \n",
            "  inflating: dcgan/outputs/dcgan_6/images/25.png  \n",
            "  inflating: dcgan/outputs/dcgan_6/images/31.png  \n",
            "  inflating: dcgan/outputs/dcgan_6/images/19.png  \n",
            "  inflating: dcgan/outputs/dcgan_6/images/4.png  \n",
            "  inflating: dcgan/outputs/dcgan_6/images/5.png  \n",
            "  inflating: dcgan/outputs/dcgan_6/images/7.png  \n",
            "  inflating: dcgan/outputs/dcgan_6/images/6.png  \n",
            "  inflating: dcgan/outputs/dcgan_6/images/40.png  \n",
            "  inflating: dcgan/outputs/dcgan_6/images/2.png  \n",
            "  inflating: dcgan/outputs/dcgan_6/images/3.png  \n",
            "  inflating: dcgan/outputs/dcgan_6/images/1.png  \n",
            "  inflating: dcgan/outputs/dcgan_6/loss_dcgan_6.png  \n"
          ]
        }
      ],
      "source": [
        "!unzip /content/drive/MyDrive/dcgan.zip"
      ]
    },
    {
      "cell_type": "markdown",
      "source": [
        "## <font color=\"#59B4C3\">🧺&nbsp;&nbsp;Load Experiments Results</font>"
      ],
      "metadata": {
        "id": "-4FJWrya6vuS"
      }
    },
    {
      "cell_type": "code",
      "execution_count": 3,
      "metadata": {
        "id": "QGWfeGopRQrf",
        "colab": {
          "base_uri": "https://localhost:8080/"
        },
        "outputId": "8e3d82ca-d342-4036-91a1-42d2b4692f8e"
      },
      "outputs": [
        {
          "output_type": "stream",
          "name": "stderr",
          "text": [
            "/usr/local/lib/python3.10/dist-packages/keras/src/initializers/initializers.py:120: UserWarning: The initializer RandomNormal is unseeded and being called multiple times, which will return identical values each time (even if the initializer is unseeded). Please update your code to provide a seed to the initializer, or avoid using the same initializer instance more than once.\n",
            "  warnings.warn(\n",
            "/usr/local/lib/python3.10/dist-packages/keras/src/initializers/initializers.py:120: UserWarning: The initializer RandomNormal is unseeded and being called multiple times, which will return identical values each time (even if the initializer is unseeded). Please update your code to provide a seed to the initializer, or avoid using the same initializer instance more than once.\n",
            "  warnings.warn(\n",
            "/usr/local/lib/python3.10/dist-packages/keras/src/initializers/initializers.py:120: UserWarning: The initializer RandomNormal is unseeded and being called multiple times, which will return identical values each time (even if the initializer is unseeded). Please update your code to provide a seed to the initializer, or avoid using the same initializer instance more than once.\n",
            "  warnings.warn(\n",
            "/usr/local/lib/python3.10/dist-packages/keras/src/initializers/initializers.py:120: UserWarning: The initializer RandomNormal is unseeded and being called multiple times, which will return identical values each time (even if the initializer is unseeded). Please update your code to provide a seed to the initializer, or avoid using the same initializer instance more than once.\n",
            "  warnings.warn(\n",
            "/usr/local/lib/python3.10/dist-packages/keras/src/initializers/initializers.py:120: UserWarning: The initializer RandomNormal is unseeded and being called multiple times, which will return identical values each time (even if the initializer is unseeded). Please update your code to provide a seed to the initializer, or avoid using the same initializer instance more than once.\n",
            "  warnings.warn(\n",
            "/usr/local/lib/python3.10/dist-packages/keras/src/initializers/initializers.py:120: UserWarning: The initializer RandomNormal is unseeded and being called multiple times, which will return identical values each time (even if the initializer is unseeded). Please update your code to provide a seed to the initializer, or avoid using the same initializer instance more than once.\n",
            "  warnings.warn(\n",
            "/usr/local/lib/python3.10/dist-packages/keras/src/initializers/initializers.py:120: UserWarning: The initializer RandomNormal is unseeded and being called multiple times, which will return identical values each time (even if the initializer is unseeded). Please update your code to provide a seed to the initializer, or avoid using the same initializer instance more than once.\n",
            "  warnings.warn(\n",
            "/usr/local/lib/python3.10/dist-packages/keras/src/initializers/initializers.py:120: UserWarning: The initializer RandomNormal is unseeded and being called multiple times, which will return identical values each time (even if the initializer is unseeded). Please update your code to provide a seed to the initializer, or avoid using the same initializer instance more than once.\n",
            "  warnings.warn(\n",
            "/usr/local/lib/python3.10/dist-packages/keras/src/initializers/initializers.py:120: UserWarning: The initializer RandomNormal is unseeded and being called multiple times, which will return identical values each time (even if the initializer is unseeded). Please update your code to provide a seed to the initializer, or avoid using the same initializer instance more than once.\n",
            "  warnings.warn(\n",
            "/usr/local/lib/python3.10/dist-packages/keras/src/initializers/initializers.py:120: UserWarning: The initializer RandomNormal is unseeded and being called multiple times, which will return identical values each time (even if the initializer is unseeded). Please update your code to provide a seed to the initializer, or avoid using the same initializer instance more than once.\n",
            "  warnings.warn(\n",
            "/usr/local/lib/python3.10/dist-packages/keras/src/initializers/initializers.py:120: UserWarning: The initializer RandomNormal is unseeded and being called multiple times, which will return identical values each time (even if the initializer is unseeded). Please update your code to provide a seed to the initializer, or avoid using the same initializer instance more than once.\n",
            "  warnings.warn(\n",
            "/usr/local/lib/python3.10/dist-packages/keras/src/initializers/initializers.py:120: UserWarning: The initializer RandomNormal is unseeded and being called multiple times, which will return identical values each time (even if the initializer is unseeded). Please update your code to provide a seed to the initializer, or avoid using the same initializer instance more than once.\n",
            "  warnings.warn(\n"
          ]
        }
      ],
      "source": [
        "import numpy as np\n",
        "import cv2\n",
        "from glob import glob\n",
        "from tensorflow import keras\n",
        "\n",
        "root_path = 'dcgan'\n",
        "\n",
        "# Load the generator models we trained\n",
        "g_models = [keras.models.load_model(f'{root_path}/generator_{model_idx}', compile=False) for model_idx in np.arange(1, 7)]\n",
        "\n",
        "# Load the discriminator models we trained\n",
        "d_models = [keras.models.load_model(f'{root_path}/discriminator_{model_idx}', compile=False) for model_idx in np.arange(1, 7)]\n",
        "\n",
        "# Open generated images for each epochs of each of the models we trained\n",
        "generated_images = np.stack([\n",
        "  [\n",
        "    cv2.imread(f'{root_path}/outputs/dcgan_{gan_idx}/images/{epoch}.png')\n",
        "    for epoch in np.arange(1, 41)\n",
        "  ]\n",
        "  for gan_idx in np.arange(1, 7)\n",
        "])\n",
        "\n",
        "# Open loss history images\n",
        "loss_history_images = [\n",
        "    cv2.imread(f'{root_path}/outputs/dcgan_{gan_idx}/loss_dcgan_{gan_idx}.png')\n",
        "    for gan_idx in np.arange(1, 7)\n",
        "]"
      ]
    },
    {
      "cell_type": "markdown",
      "source": [
        "## <font color=\"#59B4C3\">🗒&nbsp;&nbsp;Experiments Summary</font>\n",
        "\n",
        "### Filters\n",
        "\n",
        "1. Discriminator: 64, 128, 256. Generator: 7x7x256, 256, 1\n",
        "2. Discriminator: **32**, **64**, **128**. Generator: 7x7x256, 256, 1\n",
        "3. Discriminator: **8**, **16**, **32**. Generator: 7x7x256, 256, 1\n",
        "4. Discriminator: 64, 128, 256. Generator: 7x7x256, **512**, 1\n",
        "5. Discriminator: 64, 128, 256. Generator: 7x7x**128**, **128**, 1\n",
        "6. \\*Discriminator: 64, 128, 256. Generator: 7x7x256, 256, 1\n",
        "\n",
        "\\* The 6th experiment has the same number of filters as the expirement one excepted that the architecture don't follow the guidelines (of having batchnorm, strided convolution & transposed convolutions, ...) so this experiment should be more unstable.\n",
        "\n",
        "See the model summaries for more details."
      ],
      "metadata": {
        "id": "w-7TsU3J3eW_"
      }
    },
    {
      "cell_type": "code",
      "source": [
        "from ipywidgets import interact\n",
        "import ipywidgets as widgets\n",
        "\n",
        "def display_summary(experiment):\n",
        "  print(\"Generator:\\n---------\")\n",
        "  print(g_models[experiment - 1].summary())\n",
        "  print(\"\\n\\nDiscriminator:\\n---------\")\n",
        "  print(d_models[experiment - 1].summary())\n",
        "\n",
        "experiment_dropdown = widgets.Dropdown(\n",
        "    options=[i for i in np.arange(1, 7)],\n",
        "    value=1,\n",
        "    description='Experiment:',\n",
        "    disabled=False,\n",
        ")\n",
        "\n",
        "interact(display_summary, experiment=experiment_dropdown);"
      ],
      "metadata": {
        "colab": {
          "base_uri": "https://localhost:8080/",
          "height": 1000,
          "referenced_widgets": [
            "8de1d7565ae34ff89c0593b4a6ef6999",
            "22da0cd6d017494abc4c64fde4874ecd",
            "aac8f584f3a9499a87132617cc6867b7",
            "5d02f82d72ba440ba4992950e6427d29",
            "63e373fe455b4c18b995f68ccfaf2457",
            "7eae9a531b3749558db9cced473235e0",
            "61d2e70889ce48dea4aa5bb4f3219327"
          ]
        },
        "id": "B9mV2G2V2tHY",
        "outputId": "ea77452d-061c-40f0-9a9e-a232efb10333"
      },
      "execution_count": 4,
      "outputs": [
        {
          "output_type": "display_data",
          "data": {
            "text/plain": [
              "interactive(children=(Dropdown(description='Experiment:', options=(1, 2, 3, 4, 5, 6), value=1), Output()), _do…"
            ],
            "application/vnd.jupyter.widget-view+json": {
              "version_major": 2,
              "version_minor": 0,
              "model_id": "8de1d7565ae34ff89c0593b4a6ef6999"
            }
          },
          "metadata": {}
        }
      ]
    },
    {
      "cell_type": "markdown",
      "source": [
        "## <font color=\"#59B4C3\">🔍&nbsp;&nbsp;Inspect Results</font>"
      ],
      "metadata": {
        "id": "_ds6qxio8MYA"
      }
    },
    {
      "cell_type": "code",
      "source": [
        "import matplotlib.pyplot as plt\n",
        "\n",
        "fig, axs = plt.subplots(2, 3, figsize=(16, 8), dpi=100)\n",
        "\n",
        "for experiment_idx in np.arange(0, 6):\n",
        "  axs[experiment_idx // 3][experiment_idx % 3].set_title(f\"Exp. {experiment_idx + 1}\")\n",
        "  axs[experiment_idx // 3][experiment_idx % 3].axis('Off')\n",
        "  axs[experiment_idx // 3][experiment_idx % 3].imshow(loss_history_images[experiment_idx])"
      ],
      "metadata": {
        "colab": {
          "base_uri": "https://localhost:8080/",
          "height": 644
        },
        "id": "V_KlznRV8q6z",
        "outputId": "6afef2d1-9d4d-4b5b-b7dd-53fe0dfedfb6"
      },
      "execution_count": 5,
      "outputs": [
        {
          "output_type": "display_data",
          "data": {
            "text/plain": [
              "<Figure size 1600x800 with 6 Axes>"
            ],
            "image/png": "[encoded data removed]"
          },
          "metadata": {}
        }
      ]
    },
    {
      "cell_type": "code",
      "source": [
        "def display_epoch_sample_output(experiment, epoch):\n",
        "  plt.imshow(generated_images[experiment - 1][epoch - 1], cmap=\"gray\")\n",
        "  plt.axis('off')\n",
        "  plt.show()\n",
        "\n",
        "epoch_selection = widgets.BoundedIntText(\n",
        "    value=1,\n",
        "    min=1,\n",
        "    max=40,\n",
        "    step=1,\n",
        "    description='Epoch:',\n",
        ")\n",
        "\n",
        "experiment_dropdown = widgets.Dropdown(\n",
        "    options=[i for i in np.arange(1, 7)],\n",
        "    value=1,\n",
        "    description='Experiment:',\n",
        "    disabled=False,\n",
        ")\n",
        "\n",
        "interact(display_epoch_sample_output, experiment=experiment_dropdown, epoch=epoch_selection);"
      ],
      "metadata": {
        "colab": {
          "base_uri": "https://localhost:8080/",
          "height": 471,
          "referenced_widgets": [
            "80d26dad213d40a99146da9756368c0f",
            "a41364acc26b4325a4f41f90b5ae7787",
            "e1b8d7a844b64379b0b4092b1d94550e",
            "754cea7e10dc46bd9ea8c709338a8bb5",
            "758ccc63b4a64abd8c402261c83d2594",
            "171e1aded6fa4e0884bca9aefd512d46",
            "3fd48b8299d9453181b2e04570db366d",
            "8c37da64383b46debe6e1cef0ce8390c",
            "a54ac3b6e0c34024979dae4c88aaa9bf",
            "83e88396a51f4c5aa910bbd4c1cd4cc6"
          ]
        },
        "id": "7OvOUnlN6eFs",
        "outputId": "d0477f09-38bd-499c-9d69-58ada8a2745b"
      },
      "execution_count": 6,
      "outputs": [
        {
          "output_type": "display_data",
          "data": {
            "text/plain": [
              "interactive(children=(Dropdown(description='Experiment:', options=(1, 2, 3, 4, 5, 6), value=1), BoundedIntText…"
            ],
            "application/vnd.jupyter.widget-view+json": {
              "version_major": 2,
              "version_minor": 0,
              "model_id": "80d26dad213d40a99146da9756368c0f"
            }
          },
          "metadata": {}
        }
      ]
    },
    {
      "cell_type": "markdown",
      "source": [
        "### Questions 1.4\n",
        "\n",
        "<pre>\n",
        "<font color=\"#74E291\">❓ Can you rely only on the loss of the generator and discriminator to choose the best model?\n",
        "If no, provide a counter-example.\n",
        "\n",
        "❓ In the third experiment we significatively reduced the number of parameters of the discriminator\n",
        "compared to the other experiments. Did it helped the generator to produce better images? Why?\n",
        "\n",
        "❓ Compare experiments 1 and 6. Remember, They use the same number of filters\n",
        "but have a different architecture.\n",
        "\n",
        "❓ In experiment 5, we decrease the number of paramers of the generator. What was the impact?\n",
        "</pre>"
      ],
      "metadata": {
        "id": "P-oR-ckq-qUH"
      }
    }
  ],
  "metadata": {
    "colab": {
      "provenance": []
    },
    "kernelspec": {
      "display_name": "Python 3",
      "name": "python3"
    },
    "language_info": {
      "name": "python"
    },
    "widgets": {
      "application/vnd.jupyter.widget-state+json": {
        "8de1d7565ae34ff89c0593b4a6ef6999": {
          "model_module": "@jupyter-widgets/controls",
          "model_name": "VBoxModel",
          "model_module_version": "1.5.0",
          "state": {
            "_dom_classes": [
              "widget-interact"
            ],
            "_model_module": "@jupyter-widgets/controls",
            "_model_module_version": "1.5.0",
            "_model_name": "VBoxModel",
            "_view_count": null,
            "_view_module": "@jupyter-widgets/controls",
            "_view_module_version": "1.5.0",
            "_view_name": "VBoxView",
            "box_style": "",
            "children": [
              "IPY_MODEL_22da0cd6d017494abc4c64fde4874ecd",
              "IPY_MODEL_aac8f584f3a9499a87132617cc6867b7"
            ],
            "layout": "IPY_MODEL_5d02f82d72ba440ba4992950e6427d29"
          }
        },
        "22da0cd6d017494abc4c64fde4874ecd": {
          "model_module": "@jupyter-widgets/controls",
          "model_name": "DropdownModel",
          "model_module_version": "1.5.0",
          "state": {
            "_dom_classes": [],
            "_model_module": "@jupyter-widgets/controls",
            "_model_module_version": "1.5.0",
            "_model_name": "DropdownModel",
            "_options_labels": [
              "1",
              "2",
              "3",
              "4",
              "5",
              "6"
            ],
            "_view_count": null,
            "_view_module": "@jupyter-widgets/controls",
            "_view_module_version": "1.5.0",
            "_view_name": "DropdownView",
            "description": "Experiment:",
            "description_tooltip": null,
            "disabled": false,
            "index": 0,
            "layout": "IPY_MODEL_63e373fe455b4c18b995f68ccfaf2457",
            "style": "IPY_MODEL_7eae9a531b3749558db9cced473235e0"
          }
        },
        "aac8f584f3a9499a87132617cc6867b7": {
          "model_module": "@jupyter-widgets/output",
          "model_name": "OutputModel",
          "model_module_version": "1.0.0",
          "state": {
            "_dom_classes": [],
            "_model_module": "@jupyter-widgets/output",
            "_model_module_version": "1.0.0",
            "_model_name": "OutputModel",
            "_view_count": null,
            "_view_module": "@jupyter-widgets/output",
            "_view_module_version": "1.0.0",
            "_view_name": "OutputView",
            "layout": "IPY_MODEL_61d2e70889ce48dea4aa5bb4f3219327",
            "msg_id": "",
            "outputs": [
              {
                "output_type": "stream",
                "name": "stdout",
                "text": [
                  "Generator:\n",
                  "---------\n",
                  "Model: \"generator\"\n"
                ]
              },
              {
                "output_type": "stream",
                "name": "stdout",
                "text": [
                  "_________________________________________________________________\n"
                ]
              },
              {
                "output_type": "stream",
                "name": "stdout",
                "text": [
                  " Layer (type)                Output Shape              Param #   \n"
                ]
              },
              {
                "output_type": "stream",
                "name": "stdout",
                "text": [
                  "=================================================================\n"
                ]
              },
              {
                "output_type": "stream",
                "name": "stdout",
                "text": [
                  " dense_6 (Dense)             (None, 12544)             1618176   \n"
                ]
              },
              {
                "output_type": "stream",
                "name": "stdout",
                "text": [
                  "                                                                 \n"
                ]
              },
              {
                "output_type": "stream",
                "name": "stdout",
                "text": [
                  " batch_normalization_15 (Ba  (None, 12544)             50176     \n"
                ]
              },
              {
                "output_type": "stream",
                "name": "stdout",
                "text": [
                  " tchNormalization)                                               \n"
                ]
              },
              {
                "output_type": "stream",
                "name": "stdout",
                "text": [
                  "                                                                 \n"
                ]
              },
              {
                "output_type": "stream",
                "name": "stdout",
                "text": [
                  " activation_9 (Activation)   (None, 12544)             0         \n"
                ]
              },
              {
                "output_type": "stream",
                "name": "stdout",
                "text": [
                  "                                                                 \n"
                ]
              },
              {
                "output_type": "stream",
                "name": "stdout",
                "text": [
                  " reshape_3 (Reshape)         (None, 7, 7, 256)         0         \n"
                ]
              },
              {
                "output_type": "stream",
                "name": "stdout",
                "text": [
                  "                                                                 \n"
                ]
              },
              {
                "output_type": "stream",
                "name": "stdout",
                "text": [
                  " conv2d_transpose_6 (Conv2D  (None, 14, 14, 256)       1048832   \n"
                ]
              },
              {
                "output_type": "stream",
                "name": "stdout",
                "text": [
                  " Transpose)                                                      \n"
                ]
              },
              {
                "output_type": "stream",
                "name": "stdout",
                "text": [
                  "                                                                 \n"
                ]
              },
              {
                "output_type": "stream",
                "name": "stdout",
                "text": [
                  " batch_normalization_16 (Ba  (None, 14, 14, 256)       1024      \n"
                ]
              },
              {
                "output_type": "stream",
                "name": "stdout",
                "text": [
                  " tchNormalization)                                               \n"
                ]
              },
              {
                "output_type": "stream",
                "name": "stdout",
                "text": [
                  "                                                                 \n"
                ]
              },
              {
                "output_type": "stream",
                "name": "stdout",
                "text": [
                  " activation_10 (Activation)  (None, 14, 14, 256)       0         \n"
                ]
              },
              {
                "output_type": "stream",
                "name": "stdout",
                "text": [
                  "                                                                 \n"
                ]
              },
              {
                "output_type": "stream",
                "name": "stdout",
                "text": [
                  " conv2d_transpose_7 (Conv2D  (None, 28, 28, 1)         6401      \n"
                ]
              },
              {
                "output_type": "stream",
                "name": "stdout",
                "text": [
                  " Transpose)                                                      \n"
                ]
              },
              {
                "output_type": "stream",
                "name": "stdout",
                "text": [
                  "                                                                 \n"
                ]
              },
              {
                "output_type": "stream",
                "name": "stdout",
                "text": [
                  " activation_11 (Activation)  (None, 28, 28, 1)         0         \n"
                ]
              },
              {
                "output_type": "stream",
                "name": "stdout",
                "text": [
                  "                                                                 \n"
                ]
              },
              {
                "output_type": "stream",
                "name": "stdout",
                "text": [
                  "=================================================================\n"
                ]
              },
              {
                "output_type": "stream",
                "name": "stdout",
                "text": [
                  "Total params: 2724609 (10.39 MB)\n"
                ]
              },
              {
                "output_type": "stream",
                "name": "stdout",
                "text": [
                  "Trainable params: 2699009 (10.30 MB)\n"
                ]
              },
              {
                "output_type": "stream",
                "name": "stdout",
                "text": [
                  "Non-trainable params: 25600 (100.00 KB)\n"
                ]
              },
              {
                "output_type": "stream",
                "name": "stdout",
                "text": [
                  "_________________________________________________________________\n"
                ]
              },
              {
                "output_type": "stream",
                "name": "stdout",
                "text": [
                  "None\n",
                  "\n",
                  "\n",
                  "Discriminator:\n",
                  "---------\n",
                  "Model: \"discriminator\"\n"
                ]
              },
              {
                "output_type": "stream",
                "name": "stdout",
                "text": [
                  "_________________________________________________________________\n"
                ]
              },
              {
                "output_type": "stream",
                "name": "stdout",
                "text": [
                  " Layer (type)                Output Shape              Param #   \n"
                ]
              },
              {
                "output_type": "stream",
                "name": "stdout",
                "text": [
                  "=================================================================\n"
                ]
              },
              {
                "output_type": "stream",
                "name": "stdout",
                "text": [
                  " conv2d_12 (Conv2D)          (None, 14, 14, 64)        1088      \n"
                ]
              },
              {
                "output_type": "stream",
                "name": "stdout",
                "text": [
                  "                                                                 \n"
                ]
              },
              {
                "output_type": "stream",
                "name": "stdout",
                "text": [
                  " batch_normalization_20 (Ba  (None, 14, 14, 64)        256       \n"
                ]
              },
              {
                "output_type": "stream",
                "name": "stdout",
                "text": [
                  " tchNormalization)                                               \n"
                ]
              },
              {
                "output_type": "stream",
                "name": "stdout",
                "text": [
                  "                                                                 \n"
                ]
              },
              {
                "output_type": "stream",
                "name": "stdout",
                "text": [
                  " leaky_re_lu_12 (LeakyReLU)  (None, 14, 14, 64)        0         \n"
                ]
              },
              {
                "output_type": "stream",
                "name": "stdout",
                "text": [
                  "                                                                 \n"
                ]
              },
              {
                "output_type": "stream",
                "name": "stdout",
                "text": [
                  " conv2d_13 (Conv2D)          (None, 7, 7, 128)         131200    \n"
                ]
              },
              {
                "output_type": "stream",
                "name": "stdout",
                "text": [
                  "                                                                 \n"
                ]
              },
              {
                "output_type": "stream",
                "name": "stdout",
                "text": [
                  " batch_normalization_21 (Ba  (None, 7, 7, 128)         512       \n"
                ]
              },
              {
                "output_type": "stream",
                "name": "stdout",
                "text": [
                  " tchNormalization)                                               \n"
                ]
              },
              {
                "output_type": "stream",
                "name": "stdout",
                "text": [
                  "                                                                 \n"
                ]
              },
              {
                "output_type": "stream",
                "name": "stdout",
                "text": [
                  " leaky_re_lu_13 (LeakyReLU)  (None, 7, 7, 128)         0         \n"
                ]
              },
              {
                "output_type": "stream",
                "name": "stdout",
                "text": [
                  "                                                                 \n"
                ]
              },
              {
                "output_type": "stream",
                "name": "stdout",
                "text": [
                  " conv2d_14 (Conv2D)          (None, 4, 4, 256)         524544    \n"
                ]
              },
              {
                "output_type": "stream",
                "name": "stdout",
                "text": [
                  "                                                                 \n"
                ]
              },
              {
                "output_type": "stream",
                "name": "stdout",
                "text": [
                  " batch_normalization_22 (Ba  (None, 4, 4, 256)         1024      \n"
                ]
              },
              {
                "output_type": "stream",
                "name": "stdout",
                "text": [
                  " tchNormalization)                                               \n"
                ]
              },
              {
                "output_type": "stream",
                "name": "stdout",
                "text": [
                  "                                                                 \n"
                ]
              },
              {
                "output_type": "stream",
                "name": "stdout",
                "text": [
                  " leaky_re_lu_14 (LeakyReLU)  (None, 4, 4, 256)         0         \n"
                ]
              },
              {
                "output_type": "stream",
                "name": "stdout",
                "text": [
                  "                                                                 \n"
                ]
              },
              {
                "output_type": "stream",
                "name": "stdout",
                "text": [
                  " flatten_4 (Flatten)         (None, 4096)              0         \n"
                ]
              },
              {
                "output_type": "stream",
                "name": "stdout",
                "text": [
                  "                                                                 \n"
                ]
              },
              {
                "output_type": "stream",
                "name": "stdout",
                "text": [
                  " dropout_4 (Dropout)         (None, 4096)              0         \n"
                ]
              },
              {
                "output_type": "stream",
                "name": "stdout",
                "text": [
                  "                                                                 \n"
                ]
              },
              {
                "output_type": "stream",
                "name": "stdout",
                "text": [
                  " dense_8 (Dense)             (None, 1)                 4097      \n"
                ]
              },
              {
                "output_type": "stream",
                "name": "stdout",
                "text": [
                  "                                                                 \n"
                ]
              },
              {
                "output_type": "stream",
                "name": "stdout",
                "text": [
                  "=================================================================\n"
                ]
              },
              {
                "output_type": "stream",
                "name": "stdout",
                "text": [
                  "Total params: 662721 (2.53 MB)\n"
                ]
              },
              {
                "output_type": "stream",
                "name": "stdout",
                "text": [
                  "Trainable params: 661825 (2.52 MB)\n"
                ]
              },
              {
                "output_type": "stream",
                "name": "stdout",
                "text": [
                  "Non-trainable params: 896 (3.50 KB)\n"
                ]
              },
              {
                "output_type": "stream",
                "name": "stdout",
                "text": [
                  "_________________________________________________________________\n"
                ]
              },
              {
                "output_type": "stream",
                "name": "stdout",
                "text": [
                  "None\n"
                ]
              }
            ]
          }
        },
        "5d02f82d72ba440ba4992950e6427d29": {
          "model_module": "@jupyter-widgets/base",
          "model_name": "LayoutModel",
          "model_module_version": "1.2.0",
          "state": {
            "_model_module": "@jupyter-widgets/base",
            "_model_module_version": "1.2.0",
            "_model_name": "LayoutModel",
            "_view_count": null,
            "_view_module": "@jupyter-widgets/base",
            "_view_module_version": "1.2.0",
            "_view_name": "LayoutView",
            "align_content": null,
            "align_items": null,
            "align_self": null,
            "border": null,
            "bottom": null,
            "display": null,
            "flex": null,
            "flex_flow": null,
            "grid_area": null,
            "grid_auto_columns": null,
            "grid_auto_flow": null,
            "grid_auto_rows": null,
            "grid_column": null,
            "grid_gap": null,
            "grid_row": null,
            "grid_template_areas": null,
            "grid_template_columns": null,
            "grid_template_rows": null,
            "height": null,
            "justify_content": null,
            "justify_items": null,
            "left": null,
            "margin": null,
            "max_height": null,
            "max_width": null,
            "min_height": null,
            "min_width": null,
            "object_fit": null,
            "object_position": null,
            "order": null,
            "overflow": null,
            "overflow_x": null,
            "overflow_y": null,
            "padding": null,
            "right": null,
            "top": null,
            "visibility": null,
            "width": null
          }
        },
        "63e373fe455b4c18b995f68ccfaf2457": {
          "model_module": "@jupyter-widgets/base",
          "model_name": "LayoutModel",
          "model_module_version": "1.2.0",
          "state": {
            "_model_module": "@jupyter-widgets/base",
            "_model_module_version": "1.2.0",
            "_model_name": "LayoutModel",
            "_view_count": null,
            "_view_module": "@jupyter-widgets/base",
            "_view_module_version": "1.2.0",
            "_view_name": "LayoutView",
            "align_content": null,
            "align_items": null,
            "align_self": null,
            "border": null,
            "bottom": null,
            "display": null,
            "flex": null,
            "flex_flow": null,
            "grid_area": null,
            "grid_auto_columns": null,
            "grid_auto_flow": null,
            "grid_auto_rows": null,
            "grid_column": null,
            "grid_gap": null,
            "grid_row": null,
            "grid_template_areas": null,
            "grid_template_columns": null,
            "grid_template_rows": null,
            "height": null,
            "justify_content": null,
            "justify_items": null,
            "left": null,
            "margin": null,
            "max_height": null,
            "max_width": null,
            "min_height": null,
            "min_width": null,
            "object_fit": null,
            "object_position": null,
            "order": null,
            "overflow": null,
            "overflow_x": null,
            "overflow_y": null,
            "padding": null,
            "right": null,
            "top": null,
            "visibility": null,
            "width": null
          }
        },
        "7eae9a531b3749558db9cced473235e0": {
          "model_module": "@jupyter-widgets/controls",
          "model_name": "DescriptionStyleModel",
          "model_module_version": "1.5.0",
          "state": {
            "_model_module": "@jupyter-widgets/controls",
            "_model_module_version": "1.5.0",
            "_model_name": "DescriptionStyleModel",
            "_view_count": null,
            "_view_module": "@jupyter-widgets/base",
            "_view_module_version": "1.2.0",
            "_view_name": "StyleView",
            "description_width": ""
          }
        },
        "61d2e70889ce48dea4aa5bb4f3219327": {
          "model_module": "@jupyter-widgets/base",
          "model_name": "LayoutModel",
          "model_module_version": "1.2.0",
          "state": {
            "_model_module": "@jupyter-widgets/base",
            "_model_module_version": "1.2.0",
            "_model_name": "LayoutModel",
            "_view_count": null,
            "_view_module": "@jupyter-widgets/base",
            "_view_module_version": "1.2.0",
            "_view_name": "LayoutView",
            "align_content": null,
            "align_items": null,
            "align_self": null,
            "border": null,
            "bottom": null,
            "display": null,
            "flex": null,
            "flex_flow": null,
            "grid_area": null,
            "grid_auto_columns": null,
            "grid_auto_flow": null,
            "grid_auto_rows": null,
            "grid_column": null,
            "grid_gap": null,
            "grid_row": null,
            "grid_template_areas": null,
            "grid_template_columns": null,
            "grid_template_rows": null,
            "height": null,
            "justify_content": null,
            "justify_items": null,
            "left": null,
            "margin": null,
            "max_height": null,
            "max_width": null,
            "min_height": null,
            "min_width": null,
            "object_fit": null,
            "object_position": null,
            "order": null,
            "overflow": null,
            "overflow_x": null,
            "overflow_y": null,
            "padding": null,
            "right": null,
            "top": null,
            "visibility": null,
            "width": null
          }
        },
        "80d26dad213d40a99146da9756368c0f": {
          "model_module": "@jupyter-widgets/controls",
          "model_name": "VBoxModel",
          "model_module_version": "1.5.0",
          "state": {
            "_dom_classes": [
              "widget-interact"
            ],
            "_model_module": "@jupyter-widgets/controls",
            "_model_module_version": "1.5.0",
            "_model_name": "VBoxModel",
            "_view_count": null,
            "_view_module": "@jupyter-widgets/controls",
            "_view_module_version": "1.5.0",
            "_view_name": "VBoxView",
            "box_style": "",
            "children": [
              "IPY_MODEL_a41364acc26b4325a4f41f90b5ae7787",
              "IPY_MODEL_e1b8d7a844b64379b0b4092b1d94550e",
              "IPY_MODEL_754cea7e10dc46bd9ea8c709338a8bb5"
            ],
            "layout": "IPY_MODEL_758ccc63b4a64abd8c402261c83d2594"
          }
        },
        "a41364acc26b4325a4f41f90b5ae7787": {
          "model_module": "@jupyter-widgets/controls",
          "model_name": "DropdownModel",
          "model_module_version": "1.5.0",
          "state": {
            "_dom_classes": [],
            "_model_module": "@jupyter-widgets/controls",
            "_model_module_version": "1.5.0",
            "_model_name": "DropdownModel",
            "_options_labels": [
              "1",
              "2",
              "3",
              "4",
              "5",
              "6"
            ],
            "_view_count": null,
            "_view_module": "@jupyter-widgets/controls",
            "_view_module_version": "1.5.0",
            "_view_name": "DropdownView",
            "description": "Experiment:",
            "description_tooltip": null,
            "disabled": false,
            "index": 4,
            "layout": "IPY_MODEL_171e1aded6fa4e0884bca9aefd512d46",
            "style": "IPY_MODEL_3fd48b8299d9453181b2e04570db366d"
          }
        },
        "e1b8d7a844b64379b0b4092b1d94550e": {
          "model_module": "@jupyter-widgets/controls",
          "model_name": "BoundedIntTextModel",
          "model_module_version": "1.5.0",
          "state": {
            "_dom_classes": [],
            "_model_module": "@jupyter-widgets/controls",
            "_model_module_version": "1.5.0",
            "_model_name": "BoundedIntTextModel",
            "_view_count": null,
            "_view_module": "@jupyter-widgets/controls",
            "_view_module_version": "1.5.0",
            "_view_name": "IntTextView",
            "continuous_update": false,
            "description": "Epoch:",
            "description_tooltip": null,
            "disabled": false,
            "layout": "IPY_MODEL_8c37da64383b46debe6e1cef0ce8390c",
            "max": 40,
            "min": 1,
            "step": 1,
            "style": "IPY_MODEL_a54ac3b6e0c34024979dae4c88aaa9bf",
            "value": 40
          }
        },
        "754cea7e10dc46bd9ea8c709338a8bb5": {
          "model_module": "@jupyter-widgets/output",
          "model_name": "OutputModel",
          "model_module_version": "1.0.0",
          "state": {
            "_dom_classes": [],
            "_model_module": "@jupyter-widgets/output",
            "_model_module_version": "1.0.0",
            "_model_name": "OutputModel",
            "_view_count": null,
            "_view_module": "@jupyter-widgets/output",
            "_view_module_version": "1.0.0",
            "_view_name": "OutputView",
            "layout": "IPY_MODEL_83e88396a51f4c5aa910bbd4c1cd4cc6",
            "msg_id": "",
            "outputs": [
              {
                "output_type": "display_data",
                "data": {
                  "text/plain": "<Figure size 640x480 with 1 Axes>",
                  "image/png": "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\n"
                },
                "metadata": {}
              }
            ]
          }
        },
        "758ccc63b4a64abd8c402261c83d2594": {
          "model_module": "@jupyter-widgets/base",
          "model_name": "LayoutModel",
          "model_module_version": "1.2.0",
          "state": {
            "_model_module": "@jupyter-widgets/base",
            "_model_module_version": "1.2.0",
            "_model_name": "LayoutModel",
            "_view_count": null,
            "_view_module": "@jupyter-widgets/base",
            "_view_module_version": "1.2.0",
            "_view_name": "LayoutView",
            "align_content": null,
            "align_items": null,
            "align_self": null,
            "border": null,
            "bottom": null,
            "display": null,
            "flex": null,
            "flex_flow": null,
            "grid_area": null,
            "grid_auto_columns": null,
            "grid_auto_flow": null,
            "grid_auto_rows": null,
            "grid_column": null,
            "grid_gap": null,
            "grid_row": null,
            "grid_template_areas": null,
            "grid_template_columns": null,
            "grid_template_rows": null,
            "height": null,
            "justify_content": null,
            "justify_items": null,
            "left": null,
            "margin": null,
            "max_height": null,
            "max_width": null,
            "min_height": null,
            "min_width": null,
            "object_fit": null,
            "object_position": null,
            "order": null,
            "overflow": null,
            "overflow_x": null,
            "overflow_y": null,
            "padding": null,
            "right": null,
            "top": null,
            "visibility": null,
            "width": null
          }
        },
        "171e1aded6fa4e0884bca9aefd512d46": {
          "model_module": "@jupyter-widgets/base",
          "model_name": "LayoutModel",
          "model_module_version": "1.2.0",
          "state": {
            "_model_module": "@jupyter-widgets/base",
            "_model_module_version": "1.2.0",
            "_model_name": "LayoutModel",
            "_view_count": null,
            "_view_module": "@jupyter-widgets/base",
            "_view_module_version": "1.2.0",
            "_view_name": "LayoutView",
            "align_content": null,
            "align_items": null,
            "align_self": null,
            "border": null,
            "bottom": null,
            "display": null,
            "flex": null,
            "flex_flow": null,
            "grid_area": null,
            "grid_auto_columns": null,
            "grid_auto_flow": null,
            "grid_auto_rows": null,
            "grid_column": null,
            "grid_gap": null,
            "grid_row": null,
            "grid_template_areas": null,
            "grid_template_columns": null,
            "grid_template_rows": null,
            "height": null,
            "justify_content": null,
            "justify_items": null,
            "left": null,
            "margin": null,
            "max_height": null,
            "max_width": null,
            "min_height": null,
            "min_width": null,
            "object_fit": null,
            "object_position": null,
            "order": null,
            "overflow": null,
            "overflow_x": null,
            "overflow_y": null,
            "padding": null,
            "right": null,
            "top": null,
            "visibility": null,
            "width": null
          }
        },
        "3fd48b8299d9453181b2e04570db366d": {
          "model_module": "@jupyter-widgets/controls",
          "model_name": "DescriptionStyleModel",
          "model_module_version": "1.5.0",
          "state": {
            "_model_module": "@jupyter-widgets/controls",
            "_model_module_version": "1.5.0",
            "_model_name": "DescriptionStyleModel",
            "_view_count": null,
            "_view_module": "@jupyter-widgets/base",
            "_view_module_version": "1.2.0",
            "_view_name": "StyleView",
            "description_width": ""
          }
        },
        "8c37da64383b46debe6e1cef0ce8390c": {
          "model_module": "@jupyter-widgets/base",
          "model_name": "LayoutModel",
          "model_module_version": "1.2.0",
          "state": {
            "_model_module": "@jupyter-widgets/base",
            "_model_module_version": "1.2.0",
            "_model_name": "LayoutModel",
            "_view_count": null,
            "_view_module": "@jupyter-widgets/base",
            "_view_module_version": "1.2.0",
            "_view_name": "LayoutView",
            "align_content": null,
            "align_items": null,
            "align_self": null,
            "border": null,
            "bottom": null,
            "display": null,
            "flex": null,
            "flex_flow": null,
            "grid_area": null,
            "grid_auto_columns": null,
            "grid_auto_flow": null,
            "grid_auto_rows": null,
            "grid_column": null,
            "grid_gap": null,
            "grid_row": null,
            "grid_template_areas": null,
            "grid_template_columns": null,
            "grid_template_rows": null,
            "height": null,
            "justify_content": null,
            "justify_items": null,
            "left": null,
            "margin": null,
            "max_height": null,
            "max_width": null,
            "min_height": null,
            "min_width": null,
            "object_fit": null,
            "object_position": null,
            "order": null,
            "overflow": null,
            "overflow_x": null,
            "overflow_y": null,
            "padding": null,
            "right": null,
            "top": null,
            "visibility": null,
            "width": null
          }
        },
        "a54ac3b6e0c34024979dae4c88aaa9bf": {
          "model_module": "@jupyter-widgets/controls",
          "model_name": "DescriptionStyleModel",
          "model_module_version": "1.5.0",
          "state": {
            "_model_module": "@jupyter-widgets/controls",
            "_model_module_version": "1.5.0",
            "_model_name": "DescriptionStyleModel",
            "_view_count": null,
            "_view_module": "@jupyter-widgets/base",
            "_view_module_version": "1.2.0",
            "_view_name": "StyleView",
            "description_width": ""
          }
        },
        "83e88396a51f4c5aa910bbd4c1cd4cc6": {
          "model_module": "@jupyter-widgets/base",
          "model_name": "LayoutModel",
          "model_module_version": "1.2.0",
          "state": {
            "_model_module": "@jupyter-widgets/base",
            "_model_module_version": "1.2.0",
            "_model_name": "LayoutModel",
            "_view_count": null,
            "_view_module": "@jupyter-widgets/base",
            "_view_module_version": "1.2.0",
            "_view_name": "LayoutView",
            "align_content": null,
            "align_items": null,
            "align_self": null,
            "border": null,
            "bottom": null,
            "display": null,
            "flex": null,
            "flex_flow": null,
            "grid_area": null,
            "grid_auto_columns": null,
            "grid_auto_flow": null,
            "grid_auto_rows": null,
            "grid_column": null,
            "grid_gap": null,
            "grid_row": null,
            "grid_template_areas": null,
            "grid_template_columns": null,
            "grid_template_rows": null,
            "height": null,
            "justify_content": null,
            "justify_items": null,
            "left": null,
            "margin": null,
            "max_height": null,
            "max_width": null,
            "min_height": null,
            "min_width": null,
            "object_fit": null,
            "object_position": null,
            "order": null,
            "overflow": null,
            "overflow_x": null,
            "overflow_y": null,
            "padding": null,
            "right": null,
            "top": null,
            "visibility": null,
            "width": null
          }
        }
      }
    }
  },
  "nbformat": 4,
  "nbformat_minor": 0
}